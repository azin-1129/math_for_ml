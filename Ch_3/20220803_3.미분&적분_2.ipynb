{
 "cells": [
  {
   "cell_type": "markdown",
   "id": "a21a7422",
   "metadata": {},
   "source": [
    "# 3. 미분과 적분의 이해, 응용\n",
    "3.3 적분의 이해\n",
    "- 3.3.1 리만 적분 또는 정적분"
   ]
  },
  {
   "cell_type": "code",
   "execution_count": 1,
   "id": "66d768f9",
   "metadata": {},
   "outputs": [
    {
     "data": {
      "text/latex": [
       "$\\displaystyle 1.0 x^{3} + 1.0 x$"
      ],
      "text/plain": [
       "1.0*x**3 + 1.0*x"
      ]
     },
     "execution_count": 1,
     "metadata": {},
     "output_type": "execute_result"
    }
   ],
   "source": [
    "import sympy as sp\n",
    "x=sp.Symbol('x')\n",
    "sp.integrate(3.0*x**2+1, x)"
   ]
  },
  {
   "cell_type": "code",
   "execution_count": 3,
   "id": "7d65b57a",
   "metadata": {},
   "outputs": [
    {
     "name": "stdout",
     "output_type": "stream",
     "text": [
      "10.000000000000002\n"
     ]
    }
   ],
   "source": [
    "import numpy as np\n",
    "from scipy.integrate import quad\n",
    "\n",
    "def f(x):\n",
    "    return 3.0*x**2+1\n",
    "\n",
    "i=quad(f, 0,2) # 적분 후 0~2일 때까지 적분값 계산\n",
    "print(i[0])"
   ]
  },
  {
   "cell_type": "markdown",
   "id": "3d1aa162",
   "metadata": {},
   "source": [
    "3.4 미적분학의 기본정리, 편미분 그리고 경사 하강법\n",
    "- 3.4.1 미적분학의 기본정리"
   ]
  },
  {
   "cell_type": "markdown",
   "id": "db59b074",
   "metadata": {},
   "source": [
    "- 3.4.2 편미분"
   ]
  },
  {
   "cell_type": "code",
   "execution_count": 4,
   "id": "95ebd4b8",
   "metadata": {},
   "outputs": [
    {
     "name": "stdout",
     "output_type": "stream",
     "text": [
      "[-3.]\n"
     ]
    }
   ],
   "source": [
    "from scipy.optimize import fsolve\n",
    "\n",
    "line=lambda x:x+3\n",
    "solution=fsolve(line, -2) # -2 부터 해 탐색\n",
    "print(solution)"
   ]
  },
  {
   "cell_type": "markdown",
   "id": "a596d623",
   "metadata": {},
   "source": [
    "- 3.4.3 분석모형 응용-경사 하강법과 뉴턴랩슨 메소드"
   ]
  },
  {
   "cell_type": "code",
   "execution_count": 5,
   "id": "9d14f92f",
   "metadata": {},
   "outputs": [
    {
     "name": "stdout",
     "output_type": "stream",
     "text": [
      "1.0000000000000016\n"
     ]
    }
   ],
   "source": [
    "def f(x):\n",
    "    return (x**3 -1)\n",
    "\n",
    "from scipy import optimize\n",
    "\n",
    "root=optimize.newton(f,1.5) # x 1.5에서 시작해 뉴턴랩슨 메소드로 해 구하기\n",
    "print(root)"
   ]
  },
  {
   "cell_type": "code",
   "execution_count": 6,
   "id": "1e0463b0",
   "metadata": {},
   "outputs": [
    {
     "data": {
      "text/plain": [
       "1.0"
      ]
     },
     "execution_count": 6,
     "metadata": {},
     "output_type": "execute_result"
    }
   ],
   "source": [
    "root=optimize.newton(f, 1.5, fprime=lambda x:3*x**2)\n",
    "root"
   ]
  },
  {
   "cell_type": "code",
   "execution_count": 7,
   "id": "f6d6e4ec",
   "metadata": {},
   "outputs": [
    {
     "data": {
      "text/plain": [
       "1.0000000000000016"
      ]
     },
     "execution_count": 7,
     "metadata": {},
     "output_type": "execute_result"
    }
   ],
   "source": [
    "root=optimize.newton(f, 1.5, fprime2=lambda x:6*x)\n",
    "root"
   ]
  },
  {
   "cell_type": "code",
   "execution_count": 8,
   "id": "d6c19699",
   "metadata": {},
   "outputs": [
    {
     "data": {
      "text/plain": [
       "1.0"
      ]
     },
     "execution_count": 8,
     "metadata": {},
     "output_type": "execute_result"
    }
   ],
   "source": [
    "root=optimize.newton(f, 1.5, fprime=lambda x:3*x**2, fprime2=lambda x:6*x)\n",
    "root"
   ]
  },
  {
   "cell_type": "code",
   "execution_count": 10,
   "id": "2ebd506e",
   "metadata": {},
   "outputs": [
    {
     "name": "stdout",
     "output_type": "stream",
     "text": [
      "-4.9999518490318176\n"
     ]
    }
   ],
   "source": [
    "cur_x=3\n",
    "rate=0.01\n",
    "precision=0.000001 # 기준\n",
    "previous_step_size=1\n",
    "max_iters=10000\n",
    "iters=0\n",
    "df=lambda x:2*(x+5) # 기울기\n",
    "\n",
    "while (previous_step_size>precision) and (iters<max_iters):\n",
    "    prev_x=cur_x\n",
    "    cur_x=cur_x-rate*df(prev_x)\n",
    "    previous_step_size=abs(cur_x-prev_x)\n",
    "    iters=iters+1\n",
    "    \n",
    "print(cur_x)"
   ]
  },
  {
   "cell_type": "markdown",
   "id": "ef039206",
   "metadata": {},
   "source": [
    "3.5 파이썬 실습"
   ]
  },
  {
   "cell_type": "code",
   "execution_count": 11,
   "id": "deba62b7",
   "metadata": {},
   "outputs": [
    {
     "data": {
      "text/latex": [
       "$\\displaystyle 6.0 x$"
      ],
      "text/plain": [
       "6.0*x"
      ]
     },
     "execution_count": 11,
     "metadata": {},
     "output_type": "execute_result"
    }
   ],
   "source": [
    "# 1\n",
    "import sympy as np\n",
    "x=sp.Symbol('x')\n",
    "sp.diff(3.0*x**2+1, x)"
   ]
  },
  {
   "cell_type": "code",
   "execution_count": 12,
   "id": "f481920c",
   "metadata": {},
   "outputs": [
    {
     "name": "stdout",
     "output_type": "stream",
     "text": [
      "[-3.]\n"
     ]
    }
   ],
   "source": [
    "from scipy.optimize import fsolve\n",
    "import numpy as np\n",
    "line=lambda x:x+3\n",
    "solution=fsolve(line, -2)\n",
    "print(solution)"
   ]
  },
  {
   "cell_type": "code",
   "execution_count": 14,
   "id": "5732f151",
   "metadata": {},
   "outputs": [
    {
     "data": {
      "text/plain": [
       "(1.296467785724373, 1.3977971853986262e-09)"
      ]
     },
     "execution_count": 14,
     "metadata": {},
     "output_type": "execute_result"
    }
   ],
   "source": [
    "from scipy.integrate import quad\n",
    "func=lambda x:np.cos(np.exp(x))**2\n",
    "\n",
    "solution=quad(func,0,3)\n",
    "solution"
   ]
  },
  {
   "cell_type": "code",
   "execution_count": 15,
   "id": "aa6c309d",
   "metadata": {},
   "outputs": [
    {
     "data": {
      "text/plain": [
       "(5.100345067540932, 1.2589916837356385e-08)"
      ]
     },
     "execution_count": 15,
     "metadata": {},
     "output_type": "execute_result"
    }
   ],
   "source": [
    "x=np.sort(np.random.randn(150)*4+4).clip(0,5) # 0~5 사이 랜덤값 생성\n",
    "func=lambda x:np.sin(x)*np.cos(x**2)+1\n",
    "y=func(x)\n",
    "\n",
    "fsolution=quad(func,0,5)\n",
    "fsolution"
   ]
  },
  {
   "cell_type": "code",
   "execution_count": null,
   "id": "1227e9d3",
   "metadata": {},
   "outputs": [],
   "source": []
  }
 ],
 "metadata": {
  "kernelspec": {
   "display_name": "Python 3 (ipykernel)",
   "language": "python",
   "name": "python3"
  },
  "language_info": {
   "codemirror_mode": {
    "name": "ipython",
    "version": 3
   },
   "file_extension": ".py",
   "mimetype": "text/x-python",
   "name": "python",
   "nbconvert_exporter": "python",
   "pygments_lexer": "ipython3",
   "version": "3.10.5"
  }
 },
 "nbformat": 4,
 "nbformat_minor": 5
}
