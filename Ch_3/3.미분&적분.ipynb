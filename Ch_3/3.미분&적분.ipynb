{
 "cells": [
  {
   "cell_type": "markdown",
   "id": "5eb95b95",
   "metadata": {},
   "source": [
    "- 3.2 미분의 이해"
   ]
  },
  {
   "cell_type": "code",
   "execution_count": 1,
   "id": "84170e87",
   "metadata": {},
   "outputs": [
    {
     "name": "stdout",
     "output_type": "stream",
     "text": [
      "6*x\n"
     ]
    }
   ],
   "source": [
    "import sympy as sp\n",
    "\n",
    "x=sp.Symbol('x')\n",
    "print(sp.diff(3* x**2 + 1, x))"
   ]
  },
  {
   "cell_type": "code",
   "execution_count": 2,
   "id": "247d2781",
   "metadata": {},
   "outputs": [
    {
     "name": "stdout",
     "output_type": "stream",
     "text": [
      "12.0\n"
     ]
    }
   ],
   "source": [
    "from scipy.misc import derivative\n",
    "\n",
    "def f(x):\n",
    "    return 3*x**2+1\n",
    "\n",
    "def d(x):\n",
    "    return derivative(f,x)\n",
    "\n",
    "print(d(2.0))"
   ]
  },
  {
   "cell_type": "code",
   "execution_count": null,
   "id": "cf687c57",
   "metadata": {},
   "outputs": [],
   "source": []
  }
 ],
 "metadata": {
  "kernelspec": {
   "display_name": "Python 3 (ipykernel)",
   "language": "python",
   "name": "python3"
  },
  "language_info": {
   "codemirror_mode": {
    "name": "ipython",
    "version": 3
   },
   "file_extension": ".py",
   "mimetype": "text/x-python",
   "name": "python",
   "nbconvert_exporter": "python",
   "pygments_lexer": "ipython3",
   "version": "3.10.5"
  }
 },
 "nbformat": 4,
 "nbformat_minor": 5
}
